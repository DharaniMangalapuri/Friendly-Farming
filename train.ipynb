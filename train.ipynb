{
 "cells": [
  {
   "cell_type": "code",
   "execution_count": null,
   "metadata": {
    "colab": {
     "base_uri": "https://localhost:8080/"
    },
    "executionInfo": {
     "elapsed": 32469,
     "status": "ok",
     "timestamp": 1618079656481,
     "user": {
      "displayName": "NOUMAN AHMAD",
      "photoUrl": "https://lh3.googleusercontent.com/a-/AOh14GhcQ3BpK0-GAMrjLlr__tOqeFHLlT11IEFK0ztPsVY=s64",
      "userId": "11031044337039581497"
     },
     "user_tz": -300
    },
    "id": "Ui9cLjMdn17_",
    "outputId": "38fadfdb-b901-4c08-8cc3-475e7c971e44"
   },
   "outputs": [],
   "source": [
    "from google.colab import drive\n",
    "drive.mount('/content/drive')"
   ]
  },
  {
   "cell_type": "code",
   "execution_count": null,
   "metadata": {
    "colab": {
     "base_uri": "https://localhost:8080/"
    },
    "executionInfo": {
     "elapsed": 1194,
     "status": "ok",
     "timestamp": 1618079696067,
     "user": {
      "displayName": "NOUMAN AHMAD",
      "photoUrl": "https://lh3.googleusercontent.com/a-/AOh14GhcQ3BpK0-GAMrjLlr__tOqeFHLlT11IEFK0ztPsVY=s64",
      "userId": "11031044337039581497"
     },
     "user_tz": -300
    },
    "id": "wL61Pc3_S06E",
    "outputId": "6929ac15-b259-40aa-cc16-ae689ef92f60"
   },
   "outputs": [],
   "source": [
    "cd /content/drive/MyDrive/My_Projects/app"
   ]
  },
  {
   "cell_type": "markdown",
   "metadata": {
    "id": "Sqs8xkUUT7ex"
   },
   "source": [
    "#Data Preprocessing"
   ]
  },
  {
   "cell_type": "code",
   "execution_count": null,
   "metadata": {
    "colab": {
     "base_uri": "https://localhost:8080/"
    },
    "executionInfo": {
     "elapsed": 1695,
     "status": "ok",
     "timestamp": 1618079768432,
     "user": {
      "displayName": "NOUMAN AHMAD",
      "photoUrl": "https://lh3.googleusercontent.com/a-/AOh14GhcQ3BpK0-GAMrjLlr__tOqeFHLlT11IEFK0ztPsVY=s64",
      "userId": "11031044337039581497"
     },
     "user_tz": -300
    },
    "id": "k89Phl5nTfYU",
    "outputId": "86a086e9-0b38-466c-f047-f06321201e10"
   },
   "outputs": [],
   "source": [
    "import cv2,os\n",
    "data_path = r'c:\\Users\\DeLL\\Desktop\\Crop Guru\\Plant_leaf_diseases_dataset_with_augmentation\\Plant_leaf_diseases_dataset_with_augmentation\\Plant_leave_diseases_dataset_with_augmentation'\n",
    "categories=os.listdir(data_path)\n",
    "labels=[i for i in range(len(categories))]\n",
    "\n",
    "label_dict=dict(zip(categories,labels)) #empty dictionary\n",
    "print(label_dict)\n",
    "print(categories)\n",
    "print(labels)"
   ]
  },
  {
   "cell_type": "code",
   "execution_count": null,
   "metadata": {
    "executionInfo": {
     "elapsed": 89114,
     "status": "ok",
     "timestamp": 1618079908897,
     "user": {
      "displayName": "NOUMAN AHMAD",
      "photoUrl": "https://lh3.googleusercontent.com/a-/AOh14GhcQ3BpK0-GAMrjLlr__tOqeFHLlT11IEFK0ztPsVY=s64",
      "userId": "11031044337039581497"
     },
     "user_tz": -300
    },
    "id": "BScfeIRlTtlL"
   },
   "outputs": [],
   "source": [
    "img_size=100\n",
    "data=[]\n",
    "target=[]\n",
    "\n",
    "for category in categories:\n",
    "    folder_path=os.path.join(data_path,category)\n",
    "    img_names=os.listdir(folder_path)\n",
    "        \n",
    "    for img_name in img_names:\n",
    "        img_path=os.path.join(folder_path,img_name)\n",
    "        img=cv2.imread(img_path)\n",
    "\n",
    "        try:  \n",
    "            resized=cv2.resize(img,(img_size,img_size))\n",
    "            #resizing the image  into 100x100, since we need a fixed common size for all the images in the dataset\n",
    "            data.append(resized)\n",
    "            target.append(label_dict[category])\n",
    "            #appending the image and the label(categorized) into the list (dataset)\n",
    "        except Exception as e:\n",
    "            print('Exception:',e)\n",
    "            #if any exception rasied, the exception will be printed here. And pass to the next image"
   ]
  },
  {
   "cell_type": "markdown",
   "metadata": {
    "id": "mYQHryCXVQa9"
   },
   "source": [
    "#Recale and assign  catagorical lables"
   ]
  },
  {
   "cell_type": "code",
   "execution_count": null,
   "metadata": {
    "colab": {
     "base_uri": "https://localhost:8080/"
    },
    "executionInfo": {
     "elapsed": 1392,
     "status": "ok",
     "timestamp": 1618080016851,
     "user": {
      "displayName": "NOUMAN AHMAD",
      "photoUrl": "https://lh3.googleusercontent.com/a-/AOh14GhcQ3BpK0-GAMrjLlr__tOqeFHLlT11IEFK0ztPsVY=s64",
      "userId": "11031044337039581497"
     },
     "user_tz": -300
    },
    "id": "DRj6dU9zTxNw",
    "outputId": "14ebdcec-fb05-40ba-d692-403756ed5b3b"
   },
   "outputs": [],
   "source": [
    "import numpy as np\n",
    "data=np.array(data)/255.0\n",
    "data=np.reshape(data,(data.shape[0],img_size,img_size,3))\n",
    "target=np.array(target)\n",
    "from tensorflow.python.keras.utils import np_utils\n",
    "new_target=np_utils.to_categorical(target)"
   ]
  },
  {
   "cell_type": "code",
   "execution_count": null,
   "metadata": {
    "colab": {
     "base_uri": "https://localhost:8080/"
    },
    "executionInfo": {
     "elapsed": 1379,
     "status": "ok",
     "timestamp": 1618080041990,
     "user": {
      "displayName": "NOUMAN AHMAD",
      "photoUrl": "https://lh3.googleusercontent.com/a-/AOh14GhcQ3BpK0-GAMrjLlr__tOqeFHLlT11IEFK0ztPsVY=s64",
      "userId": "11031044337039581497"
     },
     "user_tz": -300
    },
    "id": "M2Ww7WuoeRAo",
    "outputId": "5d0c57ee-4450-4b30-8854-135c87e8d5f7"
   },
   "outputs": [],
   "source": [
    "new_target.shape"
   ]
  },
  {
   "cell_type": "markdown",
   "metadata": {
    "id": "at-tkV9EUH8v"
   },
   "source": [
    "#CNN Model"
   ]
  },
  {
   "cell_type": "code",
   "execution_count": null,
   "metadata": {
    "colab": {
     "base_uri": "https://localhost:8080/"
    },
    "executionInfo": {
     "elapsed": 1738,
     "status": "ok",
     "timestamp": 1618080053147,
     "user": {
      "displayName": "NOUMAN AHMAD",
      "photoUrl": "https://lh3.googleusercontent.com/a-/AOh14GhcQ3BpK0-GAMrjLlr__tOqeFHLlT11IEFK0ztPsVY=s64",
      "userId": "11031044337039581497"
     },
     "user_tz": -300
    },
    "id": "w5yQijqzVHJN",
    "outputId": "f14a9ff4-ca43-4e36-ac0b-e10e8082c26a"
   },
   "outputs": [],
   "source": [
    "data.shape"
   ]
  },
  {
   "cell_type": "code",
   "execution_count": null,
   "metadata": {
    "colab": {
     "base_uri": "https://localhost:8080/"
    },
    "executionInfo": {
     "elapsed": 1326,
     "status": "ok",
     "timestamp": 1618080061404,
     "user": {
      "displayName": "NOUMAN AHMAD",
      "photoUrl": "https://lh3.googleusercontent.com/a-/AOh14GhcQ3BpK0-GAMrjLlr__tOqeFHLlT11IEFK0ztPsVY=s64",
      "userId": "11031044337039581497"
     },
     "user_tz": -300
    },
    "id": "L1JcfG4MdVZ2",
    "outputId": "c51892f2-4157-4808-fda7-be0ef092abd5"
   },
   "outputs": [],
   "source": [
    "data.shape[1:]"
   ]
  },
  {
   "cell_type": "code",
   "execution_count": null,
   "metadata": {
    "colab": {
     "base_uri": "https://localhost:8080/"
    },
    "executionInfo": {
     "elapsed": 1913,
     "status": "ok",
     "timestamp": 1618080112682,
     "user": {
      "displayName": "NOUMAN AHMAD",
      "photoUrl": "https://lh3.googleusercontent.com/a-/AOh14GhcQ3BpK0-GAMrjLlr__tOqeFHLlT11IEFK0ztPsVY=s64",
      "userId": "11031044337039581497"
     },
     "user_tz": -300
    },
    "id": "XgsZogOtUPm2",
    "outputId": "7b8a2454-fb6f-4582-c89e-94cde118db4d"
   },
   "outputs": [],
   "source": [
    "from tensorflow.keras.models import Sequential\n",
    "from tensorflow.keras.layers import Dense,Activation,Flatten,Dropout\n",
    "from tensorflow.keras.layers import Conv2D,MaxPooling2D\n",
    "from tensorflow.keras.callbacks import ModelCheckpoint\n",
    "\n",
    "model=Sequential()\n",
    "\n",
    "model.add(Conv2D(300,(3,3),input_shape=data.shape[1:]))\n",
    "model.add(Activation('relu'))\n",
    "model.add(MaxPooling2D(pool_size=(2,2)))\n",
    "#The first CNN layer followed by Relu and MaxPooling layers\n",
    "\n",
    "model.add(Conv2D(100,(3,3)))\n",
    "model.add(Activation('relu'))\n",
    "model.add(MaxPooling2D(pool_size=(2,2)))\n",
    "#The second convolution layer followed by Relu and MaxPooling layers\n",
    "\n",
    "model.add(Flatten())\n",
    "model.add(Dropout(0.5))\n",
    "#Flatten layer to stack the output convolutions from second convolution layer\n",
    "model.add(Dense(80,activation='relu'))\n",
    "#Dense layer of 64 neurons\n",
    "model.add(Dense(56,activation='softmax'))\n",
    "#The Final layer with two outputs for two categories\n",
    "\n",
    "model.compile(loss='categorical_crossentropy',optimizer='adam',metrics=['accuracy'])"
   ]
  },
  {
   "cell_type": "code",
   "execution_count": null,
   "metadata": {
    "colab": {
     "base_uri": "https://localhost:8080/"
    },
    "executionInfo": {
     "elapsed": 1456,
     "status": "ok",
     "timestamp": 1618080117108,
     "user": {
      "displayName": "NOUMAN AHMAD",
      "photoUrl": "https://lh3.googleusercontent.com/a-/AOh14GhcQ3BpK0-GAMrjLlr__tOqeFHLlT11IEFK0ztPsVY=s64",
      "userId": "11031044337039581497"
     },
     "user_tz": -300
    },
    "id": "yfCMzZEpcyAM",
    "outputId": "4b1e9646-3e6a-4cfd-b479-54e7322d464b"
   },
   "outputs": [],
   "source": [
    "model.summary()"
   ]
  },
  {
   "cell_type": "markdown",
   "metadata": {
    "id": "Lzs7FPsncqKT"
   },
   "source": [
    "#Splittiong data into traning and testing"
   ]
  },
  {
   "cell_type": "code",
   "execution_count": null,
   "metadata": {
    "executionInfo": {
     "elapsed": 2399,
     "status": "ok",
     "timestamp": 1618080162656,
     "user": {
      "displayName": "NOUMAN AHMAD",
      "photoUrl": "https://lh3.googleusercontent.com/a-/AOh14GhcQ3BpK0-GAMrjLlr__tOqeFHLlT11IEFK0ztPsVY=s64",
      "userId": "11031044337039581497"
     },
     "user_tz": -300
    },
    "id": "1oHT4H09UT8-"
   },
   "outputs": [],
   "source": [
    "from sklearn.model_selection import train_test_split\n",
    "train_data,test_data,train_target,test_target=train_test_split(data,new_target,test_size=0.1)"
   ]
  },
  {
   "cell_type": "code",
   "execution_count": null,
   "metadata": {
    "colab": {
     "base_uri": "https://localhost:8080/"
    },
    "executionInfo": {
     "elapsed": 773,
     "status": "ok",
     "timestamp": 1618080164896,
     "user": {
      "displayName": "NOUMAN AHMAD",
      "photoUrl": "https://lh3.googleusercontent.com/a-/AOh14GhcQ3BpK0-GAMrjLlr__tOqeFHLlT11IEFK0ztPsVY=s64",
      "userId": "11031044337039581497"
     },
     "user_tz": -300
    },
    "id": "sBdHmVpzdbny",
    "outputId": "b0d7deb4-6b94-491d-faf5-e1d6f569a82d"
   },
   "outputs": [],
   "source": [
    "train_data.shape"
   ]
  },
  {
   "cell_type": "code",
   "execution_count": null,
   "metadata": {
    "colab": {
     "base_uri": "https://localhost:8080/"
    },
    "executionInfo": {
     "elapsed": 1060,
     "status": "ok",
     "timestamp": 1618080166945,
     "user": {
      "displayName": "NOUMAN AHMAD",
      "photoUrl": "https://lh3.googleusercontent.com/a-/AOh14GhcQ3BpK0-GAMrjLlr__tOqeFHLlT11IEFK0ztPsVY=s64",
      "userId": "11031044337039581497"
     },
     "user_tz": -300
    },
    "id": "Yt9DmIiydgcq",
    "outputId": "7cdbae7f-504b-49a3-f43f-0e85cb197dbf"
   },
   "outputs": [],
   "source": [
    "train_target.shape"
   ]
  },
  {
   "cell_type": "code",
   "execution_count": null,
   "metadata": {
    "colab": {
     "base_uri": "https://localhost:8080/"
    },
    "executionInfo": {
     "elapsed": 103840,
     "status": "ok",
     "timestamp": 1618080277209,
     "user": {
      "displayName": "NOUMAN AHMAD",
      "photoUrl": "https://lh3.googleusercontent.com/a-/AOh14GhcQ3BpK0-GAMrjLlr__tOqeFHLlT11IEFK0ztPsVY=s64",
      "userId": "11031044337039581497"
     },
     "user_tz": -300
    },
    "id": "rmpEGWUMUUnh",
    "outputId": "52d30ea1-789c-48ad-c38d-958bf0724db0"
   },
   "outputs": [],
   "source": [
    "#checkpoint = ModelCheckpoint('model-{epoch:03d}.model',monitor='val_loss',verbose=0,save_best_only=True,mode='auto')\n",
    "history=model.fit(train_data,train_target,epochs=10,validation_split=0.2)"
   ]
  },
  {
   "cell_type": "code",
   "execution_count": null,
   "metadata": {
    "executionInfo": {
     "elapsed": 3136,
     "status": "ok",
     "timestamp": 1618080323872,
     "user": {
      "displayName": "NOUMAN AHMAD",
      "photoUrl": "https://lh3.googleusercontent.com/a-/AOh14GhcQ3BpK0-GAMrjLlr__tOqeFHLlT11IEFK0ztPsVY=s64",
      "userId": "11031044337039581497"
     },
     "user_tz": -300
    },
    "id": "GWIlgOnjzdhT"
   },
   "outputs": [],
   "source": [
    "model.save('model.h5')"
   ]
  }
 ],
 "metadata": {
  "accelerator": "GPU",
  "colab": {
   "name": "Model_Train.ipynb",
   "provenance": [],
   "toc_visible": true
  },
  "kernelspec": {
   "display_name": "Python 3.8.10 64-bit",
   "language": "python",
   "name": "python3"
  },
  "language_info": {
   "codemirror_mode": {
    "name": "ipython",
    "version": 3
   },
   "file_extension": ".py",
   "mimetype": "text/x-python",
   "name": "python",
   "nbconvert_exporter": "python",
   "pygments_lexer": "ipython3",
   "version": "3.11.4"
  },
  "vscode": {
   "interpreter": {
    "hash": "31f2aee4e71d21fbe5cf8b01ff0e069b9275f58929596ceb00d14d90e3e16cd6"
   }
  }
 },
 "nbformat": 4,
 "nbformat_minor": 4
}
