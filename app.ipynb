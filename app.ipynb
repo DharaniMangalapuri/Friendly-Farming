{
 "cells": [
  {
   "cell_type": "code",
   "execution_count": 1,
   "id": "567b2da3-d8e8-4e96-98ac-a3a73099e6ca",
   "metadata": {},
   "outputs": [
    {
     "name": "stdout",
     "output_type": "stream",
     "text": [
      "2.13.1\n"
     ]
    }
   ],
   "source": [
    "import keras\n",
    "print(keras.__version__)"
   ]
  },
  {
   "cell_type": "code",
   "execution_count": 3,
   "id": "7e82fa4a-3875-487f-98b9-8297bcb3d2cd",
   "metadata": {},
   "outputs": [
    {
     "name": "stdout",
     "output_type": "stream",
     "text": [
      " * Serving Flask app '__main__'\n",
      " * Debug mode: off\n"
     ]
    },
    {
     "name": "stderr",
     "output_type": "stream",
     "text": [
      "WARNING: This is a development server. Do not use it in a production deployment. Use a production WSGI server instead.\n",
      " * Running on http://127.0.0.1:8080\n",
      "Press CTRL+C to quit\n",
      "[2023-11-28 13:02:07,795] ERROR in app: Exception on / [GET]\n",
      "Traceback (most recent call last):\n",
      "  File \"/home/student/.local/lib/python3.8/site-packages/flask/app.py\", line 2190, in wsgi_app\n",
      "    response = self.full_dispatch_request()\n",
      "  File \"/home/student/.local/lib/python3.8/site-packages/flask/app.py\", line 1486, in full_dispatch_request\n",
      "    rv = self.handle_user_exception(e)\n",
      "  File \"/home/student/.local/lib/python3.8/site-packages/flask/app.py\", line 1484, in full_dispatch_request\n",
      "    rv = self.dispatch_request()\n",
      "  File \"/home/student/.local/lib/python3.8/site-packages/flask/app.py\", line 1469, in dispatch_request\n",
      "    return self.ensure_sync(self.view_functions[rule.endpoint])(**view_args)\n",
      "  File \"<ipython-input-3-555e2f9cfc4f>\", line 23, in main\n",
      "    return render_template(\"index.html\")\n",
      "  File \"/home/student/.local/lib/python3.8/site-packages/flask/templating.py\", line 150, in render_template\n",
      "    template = app.jinja_env.get_or_select_template(template_name_or_list)\n",
      "  File \"/home/student/.local/lib/python3.8/site-packages/jinja2/environment.py\", line 1081, in get_or_select_template\n",
      "    return self.get_template(template_name_or_list, parent, globals)\n",
      "  File \"/home/student/.local/lib/python3.8/site-packages/jinja2/environment.py\", line 1010, in get_template\n",
      "    return self._load_template(name, globals)\n",
      "  File \"/home/student/.local/lib/python3.8/site-packages/jinja2/environment.py\", line 969, in _load_template\n",
      "    template = self.loader.load(self, name, self.make_globals(globals))\n",
      "  File \"/home/student/.local/lib/python3.8/site-packages/jinja2/loaders.py\", line 126, in load\n",
      "    source, filename, uptodate = self.get_source(environment, name)\n",
      "  File \"/home/student/.local/lib/python3.8/site-packages/flask/templating.py\", line 64, in get_source\n",
      "    return self._get_source_fast(environment, template)\n",
      "  File \"/home/student/.local/lib/python3.8/site-packages/flask/templating.py\", line 98, in _get_source_fast\n",
      "    raise TemplateNotFound(template)\n",
      "jinja2.exceptions.TemplateNotFound: index.html\n",
      "127.0.0.1 - - [28/Nov/2023 13:02:07] \"GET / HTTP/1.1\" 500 -\n",
      "127.0.0.1 - - [28/Nov/2023 13:02:09] \"GET /favicon.ico HTTP/1.1\" 404 -\n"
     ]
    }
   ],
   "source": [
    "from flask import Flask, render_template, request\n",
    "from tensorflow.keras.models import load_model\n",
    "from tensorflow.keras.preprocessing import image\n",
    "\n",
    "app = Flask(__name__)\n",
    "\n",
    "dic = {0: 'Blast', 1: 'brown leaf spot', 2: 'bacterial blight', 3: 'false smut', 4: 'sheath'}\n",
    "model = load_model('model.h5')\n",
    "\n",
    "model.make_predict_function()\n",
    "\n",
    "def predict_label(img_path):\n",
    "\ti = image.load_img(img_path, target_size=(100,100))\n",
    "\ti = image.img_to_array(i)/255.0\n",
    "\ti = i.reshape(1, 100,100,3)\n",
    "\tp = model.predict(i)\n",
    "\treturn dic[p[0]]\n",
    "\n",
    "\n",
    "# routes\n",
    "@app.route(\"/\", methods=['GET', 'POST'])\n",
    "def main():\n",
    "\treturn render_template(\"index.html\")\n",
    "\n",
    "@app.route(\"/about\")\n",
    "def about_page():\n",
    "\treturn \"Please subscribe  Artificial Intelligence Hub..!!!\"\n",
    "@app.route(\"/submit\", methods = ['GET','POST'])\n",
    "def get_output():\n",
    "\tif request.method == 'POST':\n",
    "\t\timg = request.files['my_image']\n",
    "\n",
    "\t\timg_path = \"static/\" + img.filename\t\n",
    "\t\timg.save(img_path)\n",
    "\n",
    "\t\tp = predict_label(img_path)\n",
    "\n",
    "\treturn render_template(\"index.html\", prediction = p, img_path = img_path)\n",
    "\n",
    "\n",
    "if __name__ =='__main__':\n",
    "\t#app.debug = True\n",
    "\tapp.run(port=5000)"
   ]
  },
  {
   "cell_type": "code",
   "execution_count": 2,
   "id": "f2a16439-4d63-42cd-a81a-6f1d98857247",
   "metadata": {},
   "outputs": [
    {
     "name": "stdout",
     "output_type": "stream",
     "text": [
      " * Serving Flask app '__main__'\n",
      " * Debug mode: off\n"
     ]
    },
    {
     "name": "stderr",
     "output_type": "stream",
     "text": [
      "WARNING: This is a development server. Do not use it in a production deployment. Use a production WSGI server instead.\n",
      " * Running on http://127.0.0.1:8080\n",
      "Press CTRL+C to quit\n",
      "[2023-11-28 18:17:49,881] ERROR in app: Exception on / [GET]\n",
      "Traceback (most recent call last):\n",
      "  File \"/home/student/.local/lib/python3.8/site-packages/flask/app.py\", line 2190, in wsgi_app\n",
      "    response = self.full_dispatch_request()\n",
      "  File \"/home/student/.local/lib/python3.8/site-packages/flask/app.py\", line 1486, in full_dispatch_request\n",
      "    rv = self.handle_user_exception(e)\n",
      "  File \"/home/student/.local/lib/python3.8/site-packages/flask/app.py\", line 1484, in full_dispatch_request\n",
      "    rv = self.dispatch_request()\n",
      "  File \"/home/student/.local/lib/python3.8/site-packages/flask/app.py\", line 1469, in dispatch_request\n",
      "    return self.ensure_sync(self.view_functions[rule.endpoint])(**view_args)\n",
      "  File \"<ipython-input-2-e5b98fb4d2f6>\", line 27, in main\n",
      "    return render_template(\"index.html\")\n",
      "  File \"/home/student/.local/lib/python3.8/site-packages/flask/templating.py\", line 150, in render_template\n",
      "    template = app.jinja_env.get_or_select_template(template_name_or_list)\n",
      "  File \"/home/student/.local/lib/python3.8/site-packages/jinja2/environment.py\", line 1081, in get_or_select_template\n",
      "    return self.get_template(template_name_or_list, parent, globals)\n",
      "  File \"/home/student/.local/lib/python3.8/site-packages/jinja2/environment.py\", line 1010, in get_template\n",
      "    return self._load_template(name, globals)\n",
      "  File \"/home/student/.local/lib/python3.8/site-packages/jinja2/environment.py\", line 969, in _load_template\n",
      "    template = self.loader.load(self, name, self.make_globals(globals))\n",
      "  File \"/home/student/.local/lib/python3.8/site-packages/jinja2/loaders.py\", line 126, in load\n",
      "    source, filename, uptodate = self.get_source(environment, name)\n",
      "  File \"/home/student/.local/lib/python3.8/site-packages/flask/templating.py\", line 64, in get_source\n",
      "    return self._get_source_fast(environment, template)\n",
      "  File \"/home/student/.local/lib/python3.8/site-packages/flask/templating.py\", line 98, in _get_source_fast\n",
      "    raise TemplateNotFound(template)\n",
      "jinja2.exceptions.TemplateNotFound: index.html\n",
      "127.0.0.1 - - [28/Nov/2023 18:17:50] \"GET / HTTP/1.1\" 500 -\n",
      "127.0.0.1 - - [28/Nov/2023 18:17:50] \"GET /favicon.ico HTTP/1.1\" 404 -\n",
      "[2023-11-28 18:18:50,703] ERROR in app: Exception on / [GET]\n",
      "Traceback (most recent call last):\n",
      "  File \"/home/student/.local/lib/python3.8/site-packages/flask/app.py\", line 2190, in wsgi_app\n",
      "    response = self.full_dispatch_request()\n",
      "  File \"/home/student/.local/lib/python3.8/site-packages/flask/app.py\", line 1486, in full_dispatch_request\n",
      "    rv = self.handle_user_exception(e)\n",
      "  File \"/home/student/.local/lib/python3.8/site-packages/flask/app.py\", line 1484, in full_dispatch_request\n",
      "    rv = self.dispatch_request()\n",
      "  File \"/home/student/.local/lib/python3.8/site-packages/flask/app.py\", line 1469, in dispatch_request\n",
      "    return self.ensure_sync(self.view_functions[rule.endpoint])(**view_args)\n",
      "  File \"<ipython-input-2-e5b98fb4d2f6>\", line 27, in main\n",
      "    return render_template(\"index.html\")\n",
      "  File \"/home/student/.local/lib/python3.8/site-packages/flask/templating.py\", line 150, in render_template\n",
      "    template = app.jinja_env.get_or_select_template(template_name_or_list)\n",
      "  File \"/home/student/.local/lib/python3.8/site-packages/jinja2/environment.py\", line 1081, in get_or_select_template\n",
      "    return self.get_template(template_name_or_list, parent, globals)\n",
      "  File \"/home/student/.local/lib/python3.8/site-packages/jinja2/environment.py\", line 1010, in get_template\n",
      "    return self._load_template(name, globals)\n",
      "  File \"/home/student/.local/lib/python3.8/site-packages/jinja2/environment.py\", line 969, in _load_template\n",
      "    template = self.loader.load(self, name, self.make_globals(globals))\n",
      "  File \"/home/student/.local/lib/python3.8/site-packages/jinja2/loaders.py\", line 126, in load\n",
      "    source, filename, uptodate = self.get_source(environment, name)\n",
      "  File \"/home/student/.local/lib/python3.8/site-packages/flask/templating.py\", line 64, in get_source\n",
      "    return self._get_source_fast(environment, template)\n",
      "  File \"/home/student/.local/lib/python3.8/site-packages/flask/templating.py\", line 98, in _get_source_fast\n",
      "    raise TemplateNotFound(template)\n",
      "jinja2.exceptions.TemplateNotFound: index.html\n",
      "127.0.0.1 - - [28/Nov/2023 18:18:50] \"GET / HTTP/1.1\" 500 -\n"
     ]
    }
   ],
   "source": [
    "from flask import Flask, render_template, request\n",
    "from tensorflow.keras.models import load_model\n",
    "from tensorflow.keras.preprocessing import image\n",
    "\n",
    "app = Flask(__name__)\n",
    "\n",
    "dic = {0: 'Blast', 1: 'brown leaf spot', 2: 'bacterial blight', 3: 'false smut', 4: 'sheath'}\n",
    "model = load_model('model.h5')\n",
    "\n",
    "model.make_predict_function()\n",
    "\n",
    "import numpy as np\n",
    "\n",
    "def predict_label(img_path):\n",
    "    i = image.load_img(img_path, target_size=(100, 100))\n",
    "    i = image.img_to_array(i) / 255.0\n",
    "    i = i.reshape(1, 100, 100, 3)\n",
    "    p = model.predict(i)\n",
    "    predicted_class_index = np.argmax(p)\n",
    "    return dic[predicted_class_index]\n",
    "\n",
    "\n",
    "\n",
    "# routes\n",
    "@app.route(\"/\", methods=['GET', 'POST'])\n",
    "def main():\n",
    "\treturn render_template(\"index.html\")\n",
    "\n",
    "@app.route(\"/about\")\n",
    "def about_page():\n",
    "\treturn \"Please subscribe  Artificial Intelligence Hub..!!!\"\n",
    "@app.route(\"/submit\", methods = ['GET','POST'])\n",
    "def get_output():\n",
    "\tif request.method == 'POST':\n",
    "\t\timg = request.files['my_image']\n",
    "\n",
    "\t\timg_path = \"static/\" + img.filename\t\n",
    "\t\timg.save(img_path)\n",
    "\n",
    "\t\tp = predict_label(img_path)\n",
    "\n",
    "\treturn render_template(\"index.html\", prediction = p, img_path = img_path)\n",
    "\n",
    "\n",
    "if __name__ =='__main__':\n",
    "\t#app.debug = True\n",
    "\tapp.run(port=8080)\n"
   ]
  },
  {
   "cell_type": "code",
   "execution_count": null,
   "id": "52d87b34-b63a-4244-81a5-d1f72614cc79",
   "metadata": {},
   "outputs": [],
   "source": []
  }
 ],
 "metadata": {
  "kernelspec": {
   "display_name": "Python 3.8.10 64-bit",
   "language": "python",
   "name": "python3"
  },
  "language_info": {
   "codemirror_mode": {
    "name": "ipython",
    "version": 3
   },
   "file_extension": ".py",
   "mimetype": "text/x-python",
   "name": "python",
   "nbconvert_exporter": "python",
   "pygments_lexer": "ipython3",
   "version": "3.8.10"
  },
  "vscode": {
   "interpreter": {
    "hash": "31f2aee4e71d21fbe5cf8b01ff0e069b9275f58929596ceb00d14d90e3e16cd6"
   }
  }
 },
 "nbformat": 4,
 "nbformat_minor": 5
}
