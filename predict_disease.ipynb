{
 "cells": [
  {
   "cell_type": "code",
   "execution_count": 46,
   "id": "cde16545",
   "metadata": {},
   "outputs": [],
   "source": [
    "import tensorflow as tf\n",
    "from PIL import Image"
   ]
  },
  {
   "cell_type": "code",
   "execution_count": 47,
   "id": "5e0cf0e2",
   "metadata": {},
   "outputs": [
    {
     "name": "stdout",
     "output_type": "stream",
     "text": [
      "Model: \"sequential_1\"\n",
      "_________________________________________________________________\n",
      " Layer (type)                Output Shape              Param #   \n",
      "=================================================================\n",
      " conv2d_3 (Conv2D)           (None, 30, 30, 9)         252       \n",
      "                                                                 \n",
      " max_pooling2d_3 (MaxPooling  (None, 15, 15, 9)        0         \n",
      " 2D)                                                             \n",
      "                                                                 \n",
      " conv2d_4 (Conv2D)           (None, 13, 13, 18)        1476      \n",
      "                                                                 \n",
      " max_pooling2d_4 (MaxPooling  (None, 6, 6, 18)         0         \n",
      " 2D)                                                             \n",
      "                                                                 \n",
      " conv2d_5 (Conv2D)           (None, 4, 4, 36)          5868      \n",
      "                                                                 \n",
      " max_pooling2d_5 (MaxPooling  (None, 2, 2, 36)         0         \n",
      " 2D)                                                             \n",
      "                                                                 \n",
      " flatten_1 (Flatten)         (None, 144)               0         \n",
      "                                                                 \n",
      " dense_2 (Dense)             (None, 64)                9280      \n",
      "                                                                 \n",
      " dense_3 (Dense)             (None, 10)                650       \n",
      "                                                                 \n",
      " softmax_1 (Softmax)         (None, 10)                0         \n",
      "                                                                 \n",
      "=================================================================\n",
      "Total params: 17,526\n",
      "Trainable params: 17,526\n",
      "Non-trainable params: 0\n",
      "_________________________________________________________________\n"
     ]
    }
   ],
   "source": [
    "model1=tf.keras.models.load_model(\"image.h5\")\n",
    "classes=[\n",
    "    \"Apple__Apple_scab\",\n",
    "    \"Apple__Black_rot\",\n",
    "    \"Apple__Ceder_apple_rust\",\n",
    "    \"Apple___healthy\",\n",
    "    \"Blueberry___healthy\",\n",
    "    \"Cherry_(including_sour)__healthy\",\n",
    "    \"Cherry_(including_sour)__Powdery_mildew\",\n",
    "    \"Corn_(maize)__Cercospora_leaf_spot Gray_leaf_spot\",\n",
    "    \"Corn_(maize)__Common_rust_\",\n",
    "    \"Corn_(maize)__healthy\",\n",
    "    \"Corn_(maize)__Northern_Leaf_Blight\",\n",
    "    \"Grape__Black_rot\"\n",
    "#     \"\",\n",
    "#     \"\",\n",
    "#     \"\",\n",
    "#     \"\",\n",
    "#     \"\",\n",
    "]\n",
    "model1.summary()"
   ]
  },
  {
   "cell_type": "code",
   "execution_count": 49,
   "id": "132c9bda",
   "metadata": {},
   "outputs": [],
   "source": [
    "img=Image.open(\"/home/student/Desktop/VRIKSHA/leaf.jpg\")\n",
    "img=img.resize((32,32))"
   ]
  },
  {
   "cell_type": "code",
   "execution_count": 50,
   "id": "570beb88",
   "metadata": {},
   "outputs": [
    {
     "name": "stdout",
     "output_type": "stream",
     "text": [
      "WARNING:tensorflow:6 out of the last 12 calls to <function Model.make_predict_function.<locals>.predict_function at 0x7f60444feb00> triggered tf.function retracing. Tracing is expensive and the excessive number of tracings could be due to (1) creating @tf.function repeatedly in a loop, (2) passing tensors with different shapes, (3) passing Python objects instead of tensors. For (1), please define your @tf.function outside of the loop. For (2), @tf.function has reduce_retracing=True option that can avoid unnecessary retracing. For (3), please refer to https://www.tensorflow.org/guide/function#controlling_retracing and https://www.tensorflow.org/api_docs/python/tf/function for  more details.\n",
      "tf.Tensor([100.   0.   0.   0.   0.   0.   0.   0.   0.   0.], shape=(10,), dtype=float32)\n"
     ]
    }
   ],
   "source": [
    "test=tf.reshape(tf.constant(img)/255,(-1,32,32,3))\n",
    "preds=model1.predict(test,verbose=False)[0]*100\n",
    "preds=tf.math.round(preds)\n",
    "print(preds)"
   ]
  },
  {
   "cell_type": "code",
   "execution_count": 51,
   "id": "6c2a38ce",
   "metadata": {},
   "outputs": [
    {
     "name": "stdout",
     "output_type": "stream",
     "text": [
      "0\n"
     ]
    }
   ],
   "source": [
    "confidence=tf.reduce_max(preds)\n",
    "index=int(tf.where(preds==confidence)[0][0])\n",
    "print(index)"
   ]
  },
  {
   "cell_type": "code",
   "execution_count": 52,
   "id": "336a428c",
   "metadata": {},
   "outputs": [],
   "source": [
    "pred=classes[index]"
   ]
  },
  {
   "cell_type": "code",
   "execution_count": 53,
   "id": "084a22ae",
   "metadata": {},
   "outputs": [
    {
     "name": "stdout",
     "output_type": "stream",
     "text": [
      "Apple__Apple_Scab 100 %\n"
     ]
    }
   ],
   "source": [
    "print(pred.title(),int(confidence),'%')"
   ]
  },
  {
   "cell_type": "code",
   "execution_count": null,
   "id": "5080967c",
   "metadata": {},
   "outputs": [],
   "source": []
  }
 ],
 "metadata": {
  "kernelspec": {
   "display_name": "Python 3",
   "language": "python",
   "name": "python3"
  },
  "language_info": {
   "codemirror_mode": {
    "name": "ipython",
    "version": 3
   },
   "file_extension": ".py",
   "mimetype": "text/x-python",
   "name": "python",
   "nbconvert_exporter": "python",
   "pygments_lexer": "ipython3",
   "version": "3.7.15"
  }
 },
 "nbformat": 4,
 "nbformat_minor": 5
}
